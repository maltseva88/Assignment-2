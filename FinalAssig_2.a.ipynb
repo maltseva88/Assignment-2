{
 "cells": [
  {
   "cell_type": "code",
   "execution_count": 1,
   "id": "4ff4f447-378d-4957-b776-26cc8474a6a2",
   "metadata": {},
   "outputs": [],
   "source": [
    "import pandas as pd\n",
    "import numpy as np\n",
    "import numpy_financial as npf\n",
    "\n",
    "import csv\n",
    " \n",
    "revenue_read = pd.read_csv(\"revenue_data.csv\")\n"
   ]
  },
  {
   "cell_type": "code",
   "execution_count": 2,
   "id": "211ab40f-8c50-445b-91c8-fc034250b115",
   "metadata": {},
   "outputs": [],
   "source": [
    "revenue_row_count = -1"
   ]
  },
  {
   "cell_type": "code",
   "execution_count": 3,
   "id": "7be18bbf-c0f7-4434-97d7-f423ee85c29f",
   "metadata": {},
   "outputs": [],
   "source": [
    "#revenue_read.head()"
   ]
  },
  {
   "cell_type": "code",
   "execution_count": 4,
   "id": "72f3790b-79e0-4200-b107-52686ac351e4",
   "metadata": {},
   "outputs": [],
   "source": [
    "revenue_row_count = len(revenue_read)\n",
    "#print(f\"Total Number of Months are\", revenue_row_count)"
   ]
  },
  {
   "cell_type": "code",
   "execution_count": 5,
   "id": "4536b917-a150-468e-b6bc-8c61b12371db",
   "metadata": {},
   "outputs": [],
   "source": [
    "i=0\n",
    "profit = 0\n",
    "profit_tot = 0\n",
    "while i < revenue_row_count:\n",
    "    profit = revenue_read.iloc[i,1]\n",
    "    profit_tot += profit\n",
    "    i += 1\n",
    "#print(f\"Sum Total of profit and losses is $\", profit_tot)"
   ]
  },
  {
   "cell_type": "code",
   "execution_count": 6,
   "id": "3a4a3d10-87a9-4e98-9e66-27d2fb015f57",
   "metadata": {},
   "outputs": [],
   "source": [
    "first_mth_profit = 0\n",
    "first_mth_profit = revenue_read.iloc[0,1]\n",
    "#first_mth_profit"
   ]
  },
  {
   "cell_type": "code",
   "execution_count": 7,
   "id": "29e9886f-3125-4f93-9c61-b85e6c5419e7",
   "metadata": {},
   "outputs": [],
   "source": [
    "last_mth_profit = 0\n",
    "last_mth_profit = revenue_read.iloc[(revenue_row_count-1),1]\n",
    "#last_mth_profit"
   ]
  },
  {
   "cell_type": "code",
   "execution_count": 8,
   "id": "b12da7ef-3adc-4442-a961-076c4c1aa100",
   "metadata": {},
   "outputs": [],
   "source": [
    "change_in_profit = last_mth_profit - first_mth_profit\n",
    "#change_in_profit"
   ]
  },
  {
   "cell_type": "code",
   "execution_count": 9,
   "id": "4a873d64-b5dc-4f09-86f8-5803351c7362",
   "metadata": {},
   "outputs": [],
   "source": [
    "rate_of_change = change_in_profit / (revenue_row_count -1)\n",
    "#print(f\"The Rate of change in profit/losses is \", round(rate_of_change,2))"
   ]
  },
  {
   "cell_type": "code",
   "execution_count": 10,
   "id": "72c08b15-3da6-4170-812e-dc60f9f03c8c",
   "metadata": {
    "tags": []
   },
   "outputs": [],
   "source": [
    "month_changes = []\n",
    "change = 0\n",
    "i = 1\n",
    "\n",
    "while i < revenue_row_count:\n",
    "    change = revenue_read.iloc[i,1] - revenue_read.iloc[i-1,1]\n",
    "    month_changes.append(change)\n",
    "    i += 1    \n",
    "#print(f\"Greatest Increase in profit is \", max(month_changes))\n",
    "#print(f\"Greatest Decrease in profit is \", min(month_changes))"
   ]
  },
  {
   "cell_type": "code",
   "execution_count": 11,
   "id": "766c8b92-5b9c-4767-9b12-aeb7e6a2e86b",
   "metadata": {},
   "outputs": [],
   "source": [
    "date_max = revenue_read[revenue_read['Profit/Losses'] == revenue_read['Profit/Losses'].max()]\n",
    "month_max = date_max.iloc[0,0]"
   ]
  },
  {
   "cell_type": "code",
   "execution_count": 12,
   "id": "d823b551-9d49-410f-8f9f-f59a209296dc",
   "metadata": {},
   "outputs": [],
   "source": [
    "date_min = revenue_read[revenue_read['Profit/Losses'] == revenue_read['Profit/Losses'].min()]\n",
    "month_min = date_min.iloc[0,0]"
   ]
  },
  {
   "cell_type": "code",
   "execution_count": 13,
   "id": "8d0e1455-c7cc-43d5-8756-5984063e157b",
   "metadata": {},
   "outputs": [
    {
     "name": "stdout",
     "output_type": "stream",
     "text": [
      "Financial Analysis\n",
      "-------------------------\n",
      "Total Months: 86\n",
      "Total Profit/losses for the entire period is $ 38382578\n",
      "Average Change: $ -2315.12\n",
      "Greatest Increase in Profits of $ 1926159 was in  Feb-2012\n",
      "Greatest Decrease in Profits: $ -2196167 was in  Sep-2013\n"
     ]
    }
   ],
   "source": [
    "\n",
    "print(f\"Financial Analysis\")\n",
    "print(f\"-------------------------\")\n",
    "print(\"Total Months:\", revenue_row_count)\n",
    "print(\"Total Profit/losses for the entire period is $\", profit_tot) \n",
    "print(\"Average Change: $\", round(rate_of_change,2))\n",
    "print(f\"Greatest Increase in Profits of $\", max(month_changes),\"was in \", month_max)\n",
    "print(f\"Greatest Decrease in Profits: $\", min(month_changes), \"was in \", month_min)\n"
   ]
  },
  {
   "cell_type": "code",
   "execution_count": 14,
   "id": "b428c65a-b6a7-4d4b-835d-b2d9cb001d8b",
   "metadata": {},
   "outputs": [],
   "source": [
    "financial_Analysis = open('FinancialAnalysis.txt','w')\n",
    "financial_Analysis.write(f\"Financial Analysis \\n\")\n",
    "financial_Analysis.write(f\"------------------------- \\n\")\n",
    "financial_Analysis.write(f\"Total Months: {revenue_row_count} \\n\")\n",
    "financial_Analysis.write(f\"Total Profit/losses for the entire period: $ {profit_tot} \\n\") \n",
    "financial_Analysis.write(f\"Average Change: $ {round(rate_of_change,2)} \\n\")\n",
    "financial_Analysis.write(f\"Greatest Increase in Profits: $ {max(month_changes)} was in {month_max} \\n\")\n",
    "financial_Analysis.write(f\"Greatest Decrease in Profits: $ {min(month_changes)} was in {month_min}\")\n",
    "financial_Analysis.close()"
   ]
  },
  {
   "cell_type": "code",
   "execution_count": null,
   "id": "fc0df17e-4fed-4521-8ecc-132f48470af0",
   "metadata": {},
   "outputs": [],
   "source": []
  }
 ],
 "metadata": {
  "kernelspec": {
   "display_name": "Python 3",
   "language": "python",
   "name": "python3"
  },
  "language_info": {
   "codemirror_mode": {
    "name": "ipython",
    "version": 3
   },
   "file_extension": ".py",
   "mimetype": "text/x-python",
   "name": "python",
   "nbconvert_exporter": "python",
   "pygments_lexer": "ipython3",
   "version": "3.8.5"
  }
 },
 "nbformat": 4,
 "nbformat_minor": 5
}
